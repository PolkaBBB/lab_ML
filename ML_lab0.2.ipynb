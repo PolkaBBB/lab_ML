{
 "cells": [
  {
   "cell_type": "markdown",
   "id": "01dfeda1",
   "metadata": {},
   "source": [
    "## Вам даны данные результатов ЕГЭ по различным предметам"
   ]
  },
  {
   "cell_type": "code",
   "execution_count": 3,
   "id": "79624902",
   "metadata": {},
   "outputs": [],
   "source": [
    "import numpy as np\n",
    "import pandas as pd\n",
    "import matplotlib.pyplot as plt\n",
    "import seaborn as sns\n",
    "import multiprocessing as mp"
   ]
  },
  {
   "cell_type": "markdown",
   "id": "a49b75ed",
   "metadata": {},
   "source": [
    "**1. Загрузите данные по вариантам в ноутбук**"
   ]
  },
  {
   "cell_type": "code",
   "execution_count": 4,
   "id": "353773c3",
   "metadata": {},
   "outputs": [
    {
     "data": {
      "text/html": [
       "<div>\n",
       "<style scoped>\n",
       "    .dataframe tbody tr th:only-of-type {\n",
       "        vertical-align: middle;\n",
       "    }\n",
       "\n",
       "    .dataframe tbody tr th {\n",
       "        vertical-align: top;\n",
       "    }\n",
       "\n",
       "    .dataframe thead th {\n",
       "        text-align: right;\n",
       "    }\n",
       "</style>\n",
       "<table border=\"1\" class=\"dataframe\">\n",
       "  <thead>\n",
       "    <tr style=\"text-align: right;\">\n",
       "      <th></th>\n",
       "      <th>№</th>\n",
       "      <th>№ школы</th>\n",
       "      <th>Класс</th>\n",
       "      <th>Пол</th>\n",
       "      <th>Номер варианта</th>\n",
       "      <th>Задания с кратким ответом</th>\n",
       "      <th>Задания с развернутым ответом</th>\n",
       "      <th>Устная часть</th>\n",
       "      <th>Первичный балл</th>\n",
       "      <th>Балл</th>\n",
       "      <th>Минимальный балл</th>\n",
       "    </tr>\n",
       "  </thead>\n",
       "  <tbody>\n",
       "    <tr>\n",
       "      <th>0</th>\n",
       "      <td>1</td>\n",
       "      <td>117</td>\n",
       "      <td>11</td>\n",
       "      <td>М</td>\n",
       "      <td>341</td>\n",
       "      <td>1+++--1+-++---0---------0</td>\n",
       "      <td>0(1)0(3)0(1)0(3)0(2)0(2)0(3)0(3)0(2)0(2)0(1)0(1)</td>\n",
       "      <td>NaN</td>\n",
       "      <td>8</td>\n",
       "      <td>20</td>\n",
       "      <td>24</td>\n",
       "    </tr>\n",
       "    <tr>\n",
       "      <th>1</th>\n",
       "      <td>2</td>\n",
       "      <td>148</td>\n",
       "      <td>12А</td>\n",
       "      <td>М</td>\n",
       "      <td>338</td>\n",
       "      <td>1+---+0--+---+0----++-+-0</td>\n",
       "      <td>0(1)0(3)0(1)0(3)0(2)0(2)0(3)0(3)0(2)0(2)0(1)0(1)</td>\n",
       "      <td>NaN</td>\n",
       "      <td>8</td>\n",
       "      <td>20</td>\n",
       "      <td>24</td>\n",
       "    </tr>\n",
       "    <tr>\n",
       "      <th>2</th>\n",
       "      <td>3</td>\n",
       "      <td>152</td>\n",
       "      <td>13</td>\n",
       "      <td>Ж</td>\n",
       "      <td>104</td>\n",
       "      <td>2-----0--+----1---------1</td>\n",
       "      <td>0(1)0(3)0(1)0(3)0(2)0(2)0(3)1(3)0(2)1(2)1(1)1(1)</td>\n",
       "      <td>NaN</td>\n",
       "      <td>9</td>\n",
       "      <td>22</td>\n",
       "      <td>24</td>\n",
       "    </tr>\n",
       "    <tr>\n",
       "      <th>3</th>\n",
       "      <td>4</td>\n",
       "      <td>152</td>\n",
       "      <td>13</td>\n",
       "      <td>М</td>\n",
       "      <td>104</td>\n",
       "      <td>1+--+-0++-----2----++---0</td>\n",
       "      <td>0(1)0(3)0(1)0(3)0(2)0(2)0(3)0(3)0(2)0(2)0(1)0(1)</td>\n",
       "      <td>NaN</td>\n",
       "      <td>9</td>\n",
       "      <td>22</td>\n",
       "      <td>24</td>\n",
       "    </tr>\n",
       "    <tr>\n",
       "      <th>4</th>\n",
       "      <td>5</td>\n",
       "      <td>132</td>\n",
       "      <td>11</td>\n",
       "      <td>М</td>\n",
       "      <td>337</td>\n",
       "      <td>1++---0-+++---1----+----2</td>\n",
       "      <td>0(1)0(3)0(1)0(3)0(2)0(2)0(3)0(3)0(2)0(2)0(1)0(1)</td>\n",
       "      <td>NaN</td>\n",
       "      <td>10</td>\n",
       "      <td>24</td>\n",
       "      <td>24</td>\n",
       "    </tr>\n",
       "  </tbody>\n",
       "</table>\n",
       "</div>"
      ],
      "text/plain": [
       "   № № школы Класс Пол Номер варианта  Задания с кратким ответом  \\\n",
       "0  1     117    11   М            341  1+++--1+-++---0---------0   \n",
       "1  2     148   12А   М            338  1+---+0--+---+0----++-+-0   \n",
       "2  3     152    13   Ж            104  2-----0--+----1---------1   \n",
       "3  4     152    13   М            104  1+--+-0++-----2----++---0   \n",
       "4  5     132    11   М            337  1++---0-+++---1----+----2   \n",
       "\n",
       "                      Задания с развернутым ответом Устная часть  \\\n",
       "0  0(1)0(3)0(1)0(3)0(2)0(2)0(3)0(3)0(2)0(2)0(1)0(1)          NaN   \n",
       "1  0(1)0(3)0(1)0(3)0(2)0(2)0(3)0(3)0(2)0(2)0(1)0(1)          NaN   \n",
       "2  0(1)0(3)0(1)0(3)0(2)0(2)0(3)1(3)0(2)1(2)1(1)1(1)          NaN   \n",
       "3  0(1)0(3)0(1)0(3)0(2)0(2)0(3)0(3)0(2)0(2)0(1)0(1)          NaN   \n",
       "4  0(1)0(3)0(1)0(3)0(2)0(2)0(3)0(3)0(2)0(2)0(1)0(1)          NaN   \n",
       "\n",
       "  Первичный балл Балл Минимальный балл  \n",
       "0              8   20               24  \n",
       "1              8   20               24  \n",
       "2              9   22               24  \n",
       "3              9   22               24  \n",
       "4             10   24               24  "
      ]
     },
     "execution_count": 4,
     "metadata": {},
     "output_type": "execute_result"
    }
   ],
   "source": [
    "rus = read_excel = pd.read_excel('C:/Users/User/Desktop/ОИРС ДЗ1/ML0.2 simple analisys/data/Вариант 1.xlsx')\n",
    "rus.drop(labels = [0,1], axis = 0, inplace = True)\n",
    "rus.drop(rus.tail(1).index, inplace=True)\n",
    "rus.rename(columns = {\n",
    "    \"01-Русский язык\" : \"№\",\n",
    "    \"Unnamed: 1\" : \"№ школы\",\n",
    "    \"Unnamed: 2\" : \"Класс\",\n",
    "    \"Unnamed: 3\" : \"Пол\",\n",
    "    \"Unnamed: 4\" : \"Номер варианта\",\n",
    "    \"Unnamed: 5\" : \"Задания с кратким ответом\",\n",
    "    \"Unnamed: 6\" : \"Задания с развернутым ответом\",\n",
    "    \"Unnamed: 7\" : \"Устная часть\",\n",
    "    \"Unnamed: 8\" : \"Первичный балл\",\n",
    "    \"Unnamed: 9\" : \"Балл\",\n",
    "    \"Unnamed: 10\" : \"Минимальный балл\"\n",
    "}, inplace = True)\n",
    "rus = rus.reset_index(drop=True)\n",
    "rus.head()"
   ]
  },
  {
   "cell_type": "code",
   "execution_count": 8,
   "id": "dfc16ef1",
   "metadata": {},
   "outputs": [
    {
     "data": {
      "text/html": [
       "<div>\n",
       "<style scoped>\n",
       "    .dataframe tbody tr th:only-of-type {\n",
       "        vertical-align: middle;\n",
       "    }\n",
       "\n",
       "    .dataframe tbody tr th {\n",
       "        vertical-align: top;\n",
       "    }\n",
       "\n",
       "    .dataframe thead th {\n",
       "        text-align: right;\n",
       "    }\n",
       "</style>\n",
       "<table border=\"1\" class=\"dataframe\">\n",
       "  <thead>\n",
       "    <tr style=\"text-align: right;\">\n",
       "      <th></th>\n",
       "      <th>№</th>\n",
       "      <th>№ школы</th>\n",
       "      <th>Класс</th>\n",
       "      <th>Пол</th>\n",
       "      <th>Номер варианта</th>\n",
       "      <th>Задания с кратким ответом</th>\n",
       "      <th>Задания с развернутым ответом</th>\n",
       "      <th>Устная часть</th>\n",
       "      <th>Первичный балл</th>\n",
       "      <th>Балл</th>\n",
       "      <th>Минимальный балл</th>\n",
       "    </tr>\n",
       "  </thead>\n",
       "  <tbody>\n",
       "    <tr>\n",
       "      <th>0</th>\n",
       "      <td>1</td>\n",
       "      <td>124</td>\n",
       "      <td>11</td>\n",
       "      <td>Ж</td>\n",
       "      <td>341</td>\n",
       "      <td>------+-----</td>\n",
       "      <td>0(2)0(2)0(2)0(3)0(3)0(4)0(4)</td>\n",
       "      <td>NaN</td>\n",
       "      <td>1</td>\n",
       "      <td>5</td>\n",
       "      <td>27</td>\n",
       "    </tr>\n",
       "    <tr>\n",
       "      <th>1</th>\n",
       "      <td>2</td>\n",
       "      <td>128</td>\n",
       "      <td>11</td>\n",
       "      <td>Ж</td>\n",
       "      <td>345</td>\n",
       "      <td>-+----------</td>\n",
       "      <td>0(2)0(2)0(2)0(3)0(3)0(4)0(4)</td>\n",
       "      <td>NaN</td>\n",
       "      <td>1</td>\n",
       "      <td>5</td>\n",
       "      <td>27</td>\n",
       "    </tr>\n",
       "    <tr>\n",
       "      <th>2</th>\n",
       "      <td>3</td>\n",
       "      <td>132</td>\n",
       "      <td>11</td>\n",
       "      <td>Ж</td>\n",
       "      <td>340</td>\n",
       "      <td>-+----------</td>\n",
       "      <td>0(2)0(2)0(2)0(3)0(3)0(4)0(4)</td>\n",
       "      <td>NaN</td>\n",
       "      <td>1</td>\n",
       "      <td>5</td>\n",
       "      <td>27</td>\n",
       "    </tr>\n",
       "    <tr>\n",
       "      <th>3</th>\n",
       "      <td>4</td>\n",
       "      <td>134</td>\n",
       "      <td>11</td>\n",
       "      <td>Ж</td>\n",
       "      <td>339</td>\n",
       "      <td>-+----------</td>\n",
       "      <td>0(2)0(2)0(2)0(3)0(3)0(4)0(4)</td>\n",
       "      <td>NaN</td>\n",
       "      <td>1</td>\n",
       "      <td>5</td>\n",
       "      <td>27</td>\n",
       "    </tr>\n",
       "    <tr>\n",
       "      <th>4</th>\n",
       "      <td>5</td>\n",
       "      <td>136</td>\n",
       "      <td>11</td>\n",
       "      <td>Ж</td>\n",
       "      <td>348</td>\n",
       "      <td>--------+---</td>\n",
       "      <td>0(2)0(2)0(2)0(3)0(3)0(4)0(4)</td>\n",
       "      <td>NaN</td>\n",
       "      <td>1</td>\n",
       "      <td>5</td>\n",
       "      <td>27</td>\n",
       "    </tr>\n",
       "  </tbody>\n",
       "</table>\n",
       "</div>"
      ],
      "text/plain": [
       "   № № школы Класс Пол Номер варианта Задания с кратким ответом  \\\n",
       "0  1     124    11   Ж            341              ------+-----   \n",
       "1  2     128    11   Ж            345              -+----------   \n",
       "2  3     132    11   Ж            340              -+----------   \n",
       "3  4     134    11   Ж            339              -+----------   \n",
       "4  5     136    11   Ж            348              --------+---   \n",
       "\n",
       "  Задания с развернутым ответом Устная часть Первичный балл Балл  \\\n",
       "0  0(2)0(2)0(2)0(3)0(3)0(4)0(4)          NaN              1    5   \n",
       "1  0(2)0(2)0(2)0(3)0(3)0(4)0(4)          NaN              1    5   \n",
       "2  0(2)0(2)0(2)0(3)0(3)0(4)0(4)          NaN              1    5   \n",
       "3  0(2)0(2)0(2)0(3)0(3)0(4)0(4)          NaN              1    5   \n",
       "4  0(2)0(2)0(2)0(3)0(3)0(4)0(4)          NaN              1    5   \n",
       "\n",
       "  Минимальный балл  \n",
       "0               27  \n",
       "1               27  \n",
       "2               27  \n",
       "3               27  \n",
       "4               27  "
      ]
     },
     "execution_count": 8,
     "metadata": {},
     "output_type": "execute_result"
    }
   ],
   "source": [
    "math = read_excel = pd.read_excel('C:/Users/User/Desktop/ОИРС ДЗ1/ML0.2 simple analisys/data/Вариант 2.xlsx')\n",
    "math.drop(labels = [0,1], axis = 0, inplace = True)\n",
    "math.drop(math.tail(1).index, inplace=True)\n",
    "math.rename(columns = {\n",
    "    \"02-Математика профильная\" : \"№\",\n",
    "    \"Unnamed: 1\" : \"№ школы\",\n",
    "    \"Unnamed: 2\" : \"Класс\",\n",
    "    \"Unnamed: 3\" : \"Пол\",\n",
    "    \"Unnamed: 4\" : \"Номер варианта\",\n",
    "    \"Unnamed: 5\" : \"Задания с кратким ответом\",\n",
    "    \"Unnamed: 6\" : \"Задания с развернутым ответом\",\n",
    "    \"Unnamed: 7\" : \"Устная часть\",\n",
    "    \"Unnamed: 8\" : \"Первичный балл\",\n",
    "    \"Unnamed: 9\" : \"Балл\",\n",
    "    \"Unnamed: 10\" : \"Минимальный балл\"\n",
    "}, inplace = True)\n",
    "math = math.reset_index(drop=True)\n",
    "math.head()"
   ]
  },
  {
   "cell_type": "code",
   "execution_count": 9,
   "id": "4cd8d245",
   "metadata": {},
   "outputs": [
    {
     "data": {
      "text/html": [
       "<div>\n",
       "<style scoped>\n",
       "    .dataframe tbody tr th:only-of-type {\n",
       "        vertical-align: middle;\n",
       "    }\n",
       "\n",
       "    .dataframe tbody tr th {\n",
       "        vertical-align: top;\n",
       "    }\n",
       "\n",
       "    .dataframe thead th {\n",
       "        text-align: right;\n",
       "    }\n",
       "</style>\n",
       "<table border=\"1\" class=\"dataframe\">\n",
       "  <thead>\n",
       "    <tr style=\"text-align: right;\">\n",
       "      <th></th>\n",
       "      <th>№</th>\n",
       "      <th>№ школы</th>\n",
       "      <th>Класс</th>\n",
       "      <th>Пол</th>\n",
       "      <th>Номер варианта</th>\n",
       "      <th>Задания с кратким ответом</th>\n",
       "      <th>Задания с развернутым ответом</th>\n",
       "      <th>Устная часть</th>\n",
       "      <th>Первичный балл</th>\n",
       "      <th>Балл</th>\n",
       "      <th>Минимальный балл</th>\n",
       "    </tr>\n",
       "  </thead>\n",
       "  <tbody>\n",
       "    <tr>\n",
       "      <th>0</th>\n",
       "      <td>1</td>\n",
       "      <td>152</td>\n",
       "      <td>11</td>\n",
       "      <td>М</td>\n",
       "      <td>333</td>\n",
       "      <td>----001---00---000--1-+0---</td>\n",
       "      <td>0(3)0(3)0(3)0(3)0(3)</td>\n",
       "      <td>NaN</td>\n",
       "      <td>3</td>\n",
       "      <td>10</td>\n",
       "      <td>36</td>\n",
       "    </tr>\n",
       "    <tr>\n",
       "      <th>1</th>\n",
       "      <td>2</td>\n",
       "      <td>140</td>\n",
       "      <td>12</td>\n",
       "      <td>Ж</td>\n",
       "      <td>332</td>\n",
       "      <td>----100---01-+-000--0--1---</td>\n",
       "      <td>0(3)0(3)0(3)0(3)0(3)</td>\n",
       "      <td>NaN</td>\n",
       "      <td>4</td>\n",
       "      <td>14</td>\n",
       "      <td>36</td>\n",
       "    </tr>\n",
       "    <tr>\n",
       "      <th>2</th>\n",
       "      <td>3</td>\n",
       "      <td>137</td>\n",
       "      <td>11</td>\n",
       "      <td>М</td>\n",
       "      <td>328</td>\n",
       "      <td>--+-010---00---101--0--1---</td>\n",
       "      <td>0(3)0(3)0(3)0(3)0(3)</td>\n",
       "      <td>NaN</td>\n",
       "      <td>5</td>\n",
       "      <td>17</td>\n",
       "      <td>36</td>\n",
       "    </tr>\n",
       "    <tr>\n",
       "      <th>3</th>\n",
       "      <td>4</td>\n",
       "      <td>148</td>\n",
       "      <td>11</td>\n",
       "      <td>М</td>\n",
       "      <td>333</td>\n",
       "      <td>-+--000--+01---100--0--1---</td>\n",
       "      <td>0(3)0(3)0(3)0(3)0(3)</td>\n",
       "      <td>NaN</td>\n",
       "      <td>5</td>\n",
       "      <td>17</td>\n",
       "      <td>36</td>\n",
       "    </tr>\n",
       "    <tr>\n",
       "      <th>4</th>\n",
       "      <td>5</td>\n",
       "      <td>153</td>\n",
       "      <td>11</td>\n",
       "      <td>Ж</td>\n",
       "      <td>333</td>\n",
       "      <td>-+--100---00---100-+0--1---</td>\n",
       "      <td>0(3)0(3)0(3)0(3)0(3)</td>\n",
       "      <td>NaN</td>\n",
       "      <td>5</td>\n",
       "      <td>17</td>\n",
       "      <td>36</td>\n",
       "    </tr>\n",
       "  </tbody>\n",
       "</table>\n",
       "</div>"
      ],
      "text/plain": [
       "   № № школы Класс Пол Номер варианта    Задания с кратким ответом  \\\n",
       "0  1     152    11   М            333  ----001---00---000--1-+0---   \n",
       "1  2     140    12   Ж            332  ----100---01-+-000--0--1---   \n",
       "2  3     137    11   М            328  --+-010---00---101--0--1---   \n",
       "3  4     148    11   М            333  -+--000--+01---100--0--1---   \n",
       "4  5     153    11   Ж            333  -+--100---00---100-+0--1---   \n",
       "\n",
       "  Задания с развернутым ответом Устная часть Первичный балл Балл  \\\n",
       "0          0(3)0(3)0(3)0(3)0(3)          NaN              3   10   \n",
       "1          0(3)0(3)0(3)0(3)0(3)          NaN              4   14   \n",
       "2          0(3)0(3)0(3)0(3)0(3)          NaN              5   17   \n",
       "3          0(3)0(3)0(3)0(3)0(3)          NaN              5   17   \n",
       "4          0(3)0(3)0(3)0(3)0(3)          NaN              5   17   \n",
       "\n",
       "  Минимальный балл  \n",
       "0               36  \n",
       "1               36  \n",
       "2               36  \n",
       "3               36  \n",
       "4               36  "
      ]
     },
     "execution_count": 9,
     "metadata": {},
     "output_type": "execute_result"
    }
   ],
   "source": [
    "phys = read_excel = pd.read_excel('C:/Users/User/Desktop/ОИРС ДЗ1/ML0.2 simple analisys/data/Вариант 3.xlsx')\n",
    "phys.drop(labels = [0,1], axis = 0, inplace = True)\n",
    "phys.drop(phys.tail(1).index, inplace=True)\n",
    "phys.rename(columns = {\n",
    "    \"03-Физика\" : \"№\",\n",
    "    \"Unnamed: 1\" : \"№ школы\",\n",
    "    \"Unnamed: 2\" : \"Класс\",\n",
    "    \"Unnamed: 3\" : \"Пол\",\n",
    "    \"Unnamed: 4\" : \"Номер варианта\",\n",
    "    \"Unnamed: 5\" : \"Задания с кратким ответом\",\n",
    "    \"Unnamed: 6\" : \"Задания с развернутым ответом\",\n",
    "    \"Unnamed: 7\" : \"Устная часть\",\n",
    "    \"Unnamed: 8\" : \"Первичный балл\",\n",
    "    \"Unnamed: 9\" : \"Балл\",\n",
    "    \"Unnamed: 10\" : \"Минимальный балл\"\n",
    "}, inplace = True)\n",
    "phys = phys.reset_index(drop=True)\n",
    "phys.head()"
   ]
  },
  {
   "cell_type": "code",
   "execution_count": 10,
   "id": "13b19957",
   "metadata": {},
   "outputs": [
    {
     "data": {
      "text/html": [
       "<div>\n",
       "<style scoped>\n",
       "    .dataframe tbody tr th:only-of-type {\n",
       "        vertical-align: middle;\n",
       "    }\n",
       "\n",
       "    .dataframe tbody tr th {\n",
       "        vertical-align: top;\n",
       "    }\n",
       "\n",
       "    .dataframe thead th {\n",
       "        text-align: right;\n",
       "    }\n",
       "</style>\n",
       "<table border=\"1\" class=\"dataframe\">\n",
       "  <thead>\n",
       "    <tr style=\"text-align: right;\">\n",
       "      <th></th>\n",
       "      <th>№</th>\n",
       "      <th>№ школы</th>\n",
       "      <th>Класс</th>\n",
       "      <th>Пол</th>\n",
       "      <th>Номер варианта</th>\n",
       "      <th>Задания с кратким ответом</th>\n",
       "      <th>Задания с развернутым ответом</th>\n",
       "      <th>Устная часть</th>\n",
       "      <th>Первичный балл</th>\n",
       "      <th>Балл</th>\n",
       "      <th>Минимальный балл</th>\n",
       "    </tr>\n",
       "  </thead>\n",
       "  <tbody>\n",
       "    <tr>\n",
       "      <th>0</th>\n",
       "      <td>1</td>\n",
       "      <td>148</td>\n",
       "      <td>13</td>\n",
       "      <td>М</td>\n",
       "      <td>505</td>\n",
       "      <td>-----------------------</td>\n",
       "      <td>0(3)0(2)0(3)0(4)</td>\n",
       "      <td>NaN</td>\n",
       "      <td>0</td>\n",
       "      <td>0</td>\n",
       "      <td>40</td>\n",
       "    </tr>\n",
       "    <tr>\n",
       "      <th>1</th>\n",
       "      <td>2</td>\n",
       "      <td>147</td>\n",
       "      <td>11</td>\n",
       "      <td>М</td>\n",
       "      <td>328</td>\n",
       "      <td>-----------------------</td>\n",
       "      <td>0(3)0(2)0(3)0(4)</td>\n",
       "      <td>NaN</td>\n",
       "      <td>0</td>\n",
       "      <td>0</td>\n",
       "      <td>40</td>\n",
       "    </tr>\n",
       "    <tr>\n",
       "      <th>2</th>\n",
       "      <td>3</td>\n",
       "      <td>111</td>\n",
       "      <td>11</td>\n",
       "      <td>М</td>\n",
       "      <td>330</td>\n",
       "      <td>---+---+-+-------------</td>\n",
       "      <td>0(3)0(2)0(3)0(4)</td>\n",
       "      <td>NaN</td>\n",
       "      <td>3</td>\n",
       "      <td>20</td>\n",
       "      <td>40</td>\n",
       "    </tr>\n",
       "    <tr>\n",
       "      <th>3</th>\n",
       "      <td>4</td>\n",
       "      <td>140</td>\n",
       "      <td>11</td>\n",
       "      <td>М</td>\n",
       "      <td>328</td>\n",
       "      <td>---+---------++--------</td>\n",
       "      <td>0(3)0(2)0(3)0(4)</td>\n",
       "      <td>NaN</td>\n",
       "      <td>3</td>\n",
       "      <td>20</td>\n",
       "      <td>40</td>\n",
       "    </tr>\n",
       "    <tr>\n",
       "      <th>4</th>\n",
       "      <td>5</td>\n",
       "      <td>148</td>\n",
       "      <td>11</td>\n",
       "      <td>М</td>\n",
       "      <td>328</td>\n",
       "      <td>----+---------+-----+--</td>\n",
       "      <td>0(3)0(2)0(3)0(4)</td>\n",
       "      <td>NaN</td>\n",
       "      <td>3</td>\n",
       "      <td>20</td>\n",
       "      <td>40</td>\n",
       "    </tr>\n",
       "  </tbody>\n",
       "</table>\n",
       "</div>"
      ],
      "text/plain": [
       "   № № школы Класс Пол Номер варианта Задания с кратким ответом  \\\n",
       "0  1     148    13   М            505   -----------------------   \n",
       "1  2     147    11   М            328   -----------------------   \n",
       "2  3     111    11   М            330   ---+---+-+-------------   \n",
       "3  4     140    11   М            328   ---+---------++--------   \n",
       "4  5     148    11   М            328   ----+---------+-----+--   \n",
       "\n",
       "  Задания с развернутым ответом Устная часть Первичный балл Балл  \\\n",
       "0              0(3)0(2)0(3)0(4)          NaN              0    0   \n",
       "1              0(3)0(2)0(3)0(4)          NaN              0    0   \n",
       "2              0(3)0(2)0(3)0(4)          NaN              3   20   \n",
       "3              0(3)0(2)0(3)0(4)          NaN              3   20   \n",
       "4              0(3)0(2)0(3)0(4)          NaN              3   20   \n",
       "\n",
       "  Минимальный балл  \n",
       "0               40  \n",
       "1               40  \n",
       "2               40  \n",
       "3               40  \n",
       "4               40  "
      ]
     },
     "execution_count": 10,
     "metadata": {},
     "output_type": "execute_result"
    }
   ],
   "source": [
    "inform = read_excel = pd.read_excel('C:/Users/User/Desktop/ОИРС ДЗ1/ML0.2 simple analisys/data/Вариант 4.xlsx')\n",
    "inform.drop(labels = [0,1], axis = 0, inplace = True)\n",
    "inform.drop(inform.tail(1).index, inplace=True)\n",
    "inform.rename(columns = {\n",
    "    \"05-Информатика и ИКТ\" : \"№\",\n",
    "    \"Unnamed: 1\" : \"№ школы\",\n",
    "    \"Unnamed: 2\" : \"Класс\",\n",
    "    \"Unnamed: 3\" : \"Пол\",\n",
    "    \"Unnamed: 4\" : \"Номер варианта\",\n",
    "    \"Unnamed: 5\" : \"Задания с кратким ответом\",\n",
    "    \"Unnamed: 6\" : \"Задания с развернутым ответом\",\n",
    "    \"Unnamed: 7\" : \"Устная часть\",\n",
    "    \"Unnamed: 8\" : \"Первичный балл\",\n",
    "    \"Unnamed: 9\" : \"Балл\",\n",
    "    \"Unnamed: 10\" : \"Минимальный балл\"\n",
    "}, inplace = True)\n",
    "inform = inform.reset_index(drop=True)\n",
    "inform.head()"
   ]
  },
  {
   "cell_type": "markdown",
   "id": "e8fae65a",
   "metadata": {},
   "source": [
    "**2. Сделайте описательную статистику полученных данных**"
   ]
  },
  {
   "cell_type": "code",
   "execution_count": 6,
   "id": "c8ced123",
   "metadata": {},
   "outputs": [
    {
     "data": {
      "text/html": [
       "<div>\n",
       "<style scoped>\n",
       "    .dataframe tbody tr th:only-of-type {\n",
       "        vertical-align: middle;\n",
       "    }\n",
       "\n",
       "    .dataframe tbody tr th {\n",
       "        vertical-align: top;\n",
       "    }\n",
       "\n",
       "    .dataframe thead th {\n",
       "        text-align: right;\n",
       "    }\n",
       "</style>\n",
       "<table border=\"1\" class=\"dataframe\">\n",
       "  <thead>\n",
       "    <tr style=\"text-align: right;\">\n",
       "      <th></th>\n",
       "      <th>№</th>\n",
       "      <th>№ школы</th>\n",
       "      <th>Класс</th>\n",
       "      <th>Пол</th>\n",
       "      <th>Номер варианта</th>\n",
       "      <th>Задания с кратким ответом</th>\n",
       "      <th>Задания с развернутым ответом</th>\n",
       "      <th>Устная часть</th>\n",
       "      <th>Первичный балл</th>\n",
       "      <th>Балл</th>\n",
       "      <th>Минимальный балл</th>\n",
       "    </tr>\n",
       "  </thead>\n",
       "  <tbody>\n",
       "    <tr>\n",
       "      <th>count</th>\n",
       "      <td>3048</td>\n",
       "      <td>3048</td>\n",
       "      <td>3048</td>\n",
       "      <td>3048</td>\n",
       "      <td>3048</td>\n",
       "      <td>3048</td>\n",
       "      <td>3048</td>\n",
       "      <td>0</td>\n",
       "      <td>3048</td>\n",
       "      <td>3048</td>\n",
       "      <td>3048</td>\n",
       "    </tr>\n",
       "    <tr>\n",
       "      <th>unique</th>\n",
       "      <td>3048</td>\n",
       "      <td>24</td>\n",
       "      <td>13</td>\n",
       "      <td>2</td>\n",
       "      <td>34</td>\n",
       "      <td>2516</td>\n",
       "      <td>1352</td>\n",
       "      <td>0</td>\n",
       "      <td>51</td>\n",
       "      <td>51</td>\n",
       "      <td>1</td>\n",
       "    </tr>\n",
       "    <tr>\n",
       "      <th>top</th>\n",
       "      <td>1</td>\n",
       "      <td>152</td>\n",
       "      <td>11</td>\n",
       "      <td>Ж</td>\n",
       "      <td>340</td>\n",
       "      <td>2+++++5+++++++2++++++++-4</td>\n",
       "      <td>1(1)3(3)1(1)3(3)2(2)2(2)3(3)3(3)2(2)2(2)1(1)1(1)</td>\n",
       "      <td>NaN</td>\n",
       "      <td>49</td>\n",
       "      <td>80</td>\n",
       "      <td>24</td>\n",
       "    </tr>\n",
       "    <tr>\n",
       "      <th>freq</th>\n",
       "      <td>1</td>\n",
       "      <td>331</td>\n",
       "      <td>2428</td>\n",
       "      <td>1767</td>\n",
       "      <td>253</td>\n",
       "      <td>92</td>\n",
       "      <td>84</td>\n",
       "      <td>NaN</td>\n",
       "      <td>158</td>\n",
       "      <td>158</td>\n",
       "      <td>3048</td>\n",
       "    </tr>\n",
       "  </tbody>\n",
       "</table>\n",
       "</div>"
      ],
      "text/plain": [
       "           №  № школы  Класс   Пол  Номер варианта  Задания с кратким ответом  \\\n",
       "count   3048     3048   3048  3048            3048                       3048   \n",
       "unique  3048       24     13     2              34                       2516   \n",
       "top        1      152     11     Ж             340  2+++++5+++++++2++++++++-4   \n",
       "freq       1      331   2428  1767             253                         92   \n",
       "\n",
       "                           Задания с развернутым ответом Устная часть  \\\n",
       "count                                               3048            0   \n",
       "unique                                              1352            0   \n",
       "top     1(1)3(3)1(1)3(3)2(2)2(2)3(3)3(3)2(2)2(2)1(1)1(1)          NaN   \n",
       "freq                                                  84          NaN   \n",
       "\n",
       "        Первичный балл  Балл  Минимальный балл  \n",
       "count             3048  3048              3048  \n",
       "unique              51    51                 1  \n",
       "top                 49    80                24  \n",
       "freq               158   158              3048  "
      ]
     },
     "execution_count": 6,
     "metadata": {},
     "output_type": "execute_result"
    }
   ],
   "source": [
    "rus.describe()"
   ]
  },
  {
   "cell_type": "code",
   "execution_count": 11,
   "id": "e52e1d40",
   "metadata": {
    "scrolled": true
   },
   "outputs": [
    {
     "data": {
      "text/html": [
       "<div>\n",
       "<style scoped>\n",
       "    .dataframe tbody tr th:only-of-type {\n",
       "        vertical-align: middle;\n",
       "    }\n",
       "\n",
       "    .dataframe tbody tr th {\n",
       "        vertical-align: top;\n",
       "    }\n",
       "\n",
       "    .dataframe thead th {\n",
       "        text-align: right;\n",
       "    }\n",
       "</style>\n",
       "<table border=\"1\" class=\"dataframe\">\n",
       "  <thead>\n",
       "    <tr style=\"text-align: right;\">\n",
       "      <th></th>\n",
       "      <th>№</th>\n",
       "      <th>№ школы</th>\n",
       "      <th>Класс</th>\n",
       "      <th>Пол</th>\n",
       "      <th>Номер варианта</th>\n",
       "      <th>Задания с кратким ответом</th>\n",
       "      <th>Задания с развернутым ответом</th>\n",
       "      <th>Устная часть</th>\n",
       "      <th>Первичный балл</th>\n",
       "      <th>Балл</th>\n",
       "      <th>Минимальный балл</th>\n",
       "    </tr>\n",
       "  </thead>\n",
       "  <tbody>\n",
       "    <tr>\n",
       "      <th>count</th>\n",
       "      <td>2356</td>\n",
       "      <td>2356</td>\n",
       "      <td>2356</td>\n",
       "      <td>2356</td>\n",
       "      <td>2356</td>\n",
       "      <td>2356</td>\n",
       "      <td>2356</td>\n",
       "      <td>0</td>\n",
       "      <td>2356</td>\n",
       "      <td>2356</td>\n",
       "      <td>2356</td>\n",
       "    </tr>\n",
       "    <tr>\n",
       "      <th>unique</th>\n",
       "      <td>2356</td>\n",
       "      <td>17</td>\n",
       "      <td>13</td>\n",
       "      <td>2</td>\n",
       "      <td>32</td>\n",
       "      <td>467</td>\n",
       "      <td>135</td>\n",
       "      <td>0</td>\n",
       "      <td>26</td>\n",
       "      <td>26</td>\n",
       "      <td>1</td>\n",
       "    </tr>\n",
       "    <tr>\n",
       "      <th>top</th>\n",
       "      <td>1</td>\n",
       "      <td>136</td>\n",
       "      <td>11</td>\n",
       "      <td>Ж</td>\n",
       "      <td>343</td>\n",
       "      <td>++++++++++++</td>\n",
       "      <td>0(2)0(2)0(2)0(3)0(3)0(4)0(4)</td>\n",
       "      <td>NaN</td>\n",
       "      <td>8</td>\n",
       "      <td>39</td>\n",
       "      <td>27</td>\n",
       "    </tr>\n",
       "    <tr>\n",
       "      <th>freq</th>\n",
       "      <td>1</td>\n",
       "      <td>1020</td>\n",
       "      <td>1798</td>\n",
       "      <td>1245</td>\n",
       "      <td>189</td>\n",
       "      <td>265</td>\n",
       "      <td>1405</td>\n",
       "      <td>NaN</td>\n",
       "      <td>265</td>\n",
       "      <td>265</td>\n",
       "      <td>2356</td>\n",
       "    </tr>\n",
       "  </tbody>\n",
       "</table>\n",
       "</div>"
      ],
      "text/plain": [
       "           №  № школы  Класс   Пол  Номер варианта Задания с кратким ответом  \\\n",
       "count   2356     2356   2356  2356            2356                      2356   \n",
       "unique  2356       17     13     2              32                       467   \n",
       "top        1      136     11     Ж             343              ++++++++++++   \n",
       "freq       1     1020   1798  1245             189                       265   \n",
       "\n",
       "       Задания с развернутым ответом Устная часть  Первичный балл  Балл  \\\n",
       "count                           2356            0            2356  2356   \n",
       "unique                           135            0              26    26   \n",
       "top     0(2)0(2)0(2)0(3)0(3)0(4)0(4)          NaN               8    39   \n",
       "freq                            1405          NaN             265   265   \n",
       "\n",
       "        Минимальный балл  \n",
       "count               2356  \n",
       "unique                 1  \n",
       "top                   27  \n",
       "freq                2356  "
      ]
     },
     "execution_count": 11,
     "metadata": {},
     "output_type": "execute_result"
    }
   ],
   "source": [
    "math.describe()"
   ]
  },
  {
   "cell_type": "code",
   "execution_count": 12,
   "id": "3a5ccd75",
   "metadata": {},
   "outputs": [
    {
     "data": {
      "text/html": [
       "<div>\n",
       "<style scoped>\n",
       "    .dataframe tbody tr th:only-of-type {\n",
       "        vertical-align: middle;\n",
       "    }\n",
       "\n",
       "    .dataframe tbody tr th {\n",
       "        vertical-align: top;\n",
       "    }\n",
       "\n",
       "    .dataframe thead th {\n",
       "        text-align: right;\n",
       "    }\n",
       "</style>\n",
       "<table border=\"1\" class=\"dataframe\">\n",
       "  <thead>\n",
       "    <tr style=\"text-align: right;\">\n",
       "      <th></th>\n",
       "      <th>№</th>\n",
       "      <th>№ школы</th>\n",
       "      <th>Класс</th>\n",
       "      <th>Пол</th>\n",
       "      <th>Номер варианта</th>\n",
       "      <th>Задания с кратким ответом</th>\n",
       "      <th>Задания с развернутым ответом</th>\n",
       "      <th>Устная часть</th>\n",
       "      <th>Первичный балл</th>\n",
       "      <th>Балл</th>\n",
       "      <th>Минимальный балл</th>\n",
       "    </tr>\n",
       "  </thead>\n",
       "  <tbody>\n",
       "    <tr>\n",
       "      <th>count</th>\n",
       "      <td>1180</td>\n",
       "      <td>1180</td>\n",
       "      <td>1180</td>\n",
       "      <td>1180</td>\n",
       "      <td>1180</td>\n",
       "      <td>1180</td>\n",
       "      <td>1180</td>\n",
       "      <td>0</td>\n",
       "      <td>1180</td>\n",
       "      <td>1180</td>\n",
       "      <td>1180</td>\n",
       "    </tr>\n",
       "    <tr>\n",
       "      <th>unique</th>\n",
       "      <td>1180</td>\n",
       "      <td>19</td>\n",
       "      <td>10</td>\n",
       "      <td>2</td>\n",
       "      <td>20</td>\n",
       "      <td>1160</td>\n",
       "      <td>203</td>\n",
       "      <td>0</td>\n",
       "      <td>50</td>\n",
       "      <td>50</td>\n",
       "      <td>1</td>\n",
       "    </tr>\n",
       "    <tr>\n",
       "      <th>top</th>\n",
       "      <td>1</td>\n",
       "      <td>148</td>\n",
       "      <td>11</td>\n",
       "      <td>М</td>\n",
       "      <td>328</td>\n",
       "      <td>++++222+++22+++222++2++2+++</td>\n",
       "      <td>0(3)0(3)0(3)0(3)0(3)</td>\n",
       "      <td>NaN</td>\n",
       "      <td>14</td>\n",
       "      <td>40</td>\n",
       "      <td>36</td>\n",
       "    </tr>\n",
       "    <tr>\n",
       "      <th>freq</th>\n",
       "      <td>1</td>\n",
       "      <td>214</td>\n",
       "      <td>949</td>\n",
       "      <td>810</td>\n",
       "      <td>199</td>\n",
       "      <td>11</td>\n",
       "      <td>588</td>\n",
       "      <td>NaN</td>\n",
       "      <td>63</td>\n",
       "      <td>63</td>\n",
       "      <td>1180</td>\n",
       "    </tr>\n",
       "  </tbody>\n",
       "</table>\n",
       "</div>"
      ],
      "text/plain": [
       "           №  № школы  Класс   Пол  Номер варианта  \\\n",
       "count   1180     1180   1180  1180            1180   \n",
       "unique  1180       19     10     2              20   \n",
       "top        1      148     11     М             328   \n",
       "freq       1      214    949   810             199   \n",
       "\n",
       "          Задания с кратким ответом Задания с развернутым ответом  \\\n",
       "count                          1180                          1180   \n",
       "unique                         1160                           203   \n",
       "top     ++++222+++22+++222++2++2+++          0(3)0(3)0(3)0(3)0(3)   \n",
       "freq                             11                           588   \n",
       "\n",
       "       Устная часть  Первичный балл  Балл  Минимальный балл  \n",
       "count             0            1180  1180              1180  \n",
       "unique            0              50    50                 1  \n",
       "top             NaN              14    40                36  \n",
       "freq            NaN              63    63              1180  "
      ]
     },
     "execution_count": 12,
     "metadata": {},
     "output_type": "execute_result"
    }
   ],
   "source": [
    "phys.describe()"
   ]
  },
  {
   "cell_type": "code",
   "execution_count": 13,
   "id": "61153655",
   "metadata": {},
   "outputs": [
    {
     "data": {
      "text/html": [
       "<div>\n",
       "<style scoped>\n",
       "    .dataframe tbody tr th:only-of-type {\n",
       "        vertical-align: middle;\n",
       "    }\n",
       "\n",
       "    .dataframe tbody tr th {\n",
       "        vertical-align: top;\n",
       "    }\n",
       "\n",
       "    .dataframe thead th {\n",
       "        text-align: right;\n",
       "    }\n",
       "</style>\n",
       "<table border=\"1\" class=\"dataframe\">\n",
       "  <thead>\n",
       "    <tr style=\"text-align: right;\">\n",
       "      <th></th>\n",
       "      <th>№</th>\n",
       "      <th>№ школы</th>\n",
       "      <th>Класс</th>\n",
       "      <th>Пол</th>\n",
       "      <th>Номер варианта</th>\n",
       "      <th>Задания с кратким ответом</th>\n",
       "      <th>Задания с развернутым ответом</th>\n",
       "      <th>Устная часть</th>\n",
       "      <th>Первичный балл</th>\n",
       "      <th>Балл</th>\n",
       "      <th>Минимальный балл</th>\n",
       "    </tr>\n",
       "  </thead>\n",
       "  <tbody>\n",
       "    <tr>\n",
       "      <th>count</th>\n",
       "      <td>141</td>\n",
       "      <td>141</td>\n",
       "      <td>141</td>\n",
       "      <td>141</td>\n",
       "      <td>141</td>\n",
       "      <td>141</td>\n",
       "      <td>141</td>\n",
       "      <td>0</td>\n",
       "      <td>141</td>\n",
       "      <td>141</td>\n",
       "      <td>141</td>\n",
       "    </tr>\n",
       "    <tr>\n",
       "      <th>unique</th>\n",
       "      <td>141</td>\n",
       "      <td>10</td>\n",
       "      <td>6</td>\n",
       "      <td>2</td>\n",
       "      <td>13</td>\n",
       "      <td>134</td>\n",
       "      <td>58</td>\n",
       "      <td>0</td>\n",
       "      <td>34</td>\n",
       "      <td>34</td>\n",
       "      <td>1</td>\n",
       "    </tr>\n",
       "    <tr>\n",
       "      <th>top</th>\n",
       "      <td>1</td>\n",
       "      <td>148</td>\n",
       "      <td>11</td>\n",
       "      <td>М</td>\n",
       "      <td>328</td>\n",
       "      <td>+++++++++++++++++++++++</td>\n",
       "      <td>0(3)0(2)0(3)0(4)</td>\n",
       "      <td>NaN</td>\n",
       "      <td>26</td>\n",
       "      <td>77</td>\n",
       "      <td>40</td>\n",
       "    </tr>\n",
       "    <tr>\n",
       "      <th>freq</th>\n",
       "      <td>1</td>\n",
       "      <td>93</td>\n",
       "      <td>100</td>\n",
       "      <td>109</td>\n",
       "      <td>27</td>\n",
       "      <td>3</td>\n",
       "      <td>36</td>\n",
       "      <td>NaN</td>\n",
       "      <td>10</td>\n",
       "      <td>10</td>\n",
       "      <td>141</td>\n",
       "    </tr>\n",
       "  </tbody>\n",
       "</table>\n",
       "</div>"
      ],
      "text/plain": [
       "          №  № школы  Класс  Пол  Номер варианта Задания с кратким ответом  \\\n",
       "count   141      141    141  141             141                       141   \n",
       "unique  141       10      6    2              13                       134   \n",
       "top       1      148     11    М             328   +++++++++++++++++++++++   \n",
       "freq      1       93    100  109              27                         3   \n",
       "\n",
       "       Задания с развернутым ответом Устная часть  Первичный балл  Балл  \\\n",
       "count                            141            0             141   141   \n",
       "unique                            58            0              34    34   \n",
       "top                 0(3)0(2)0(3)0(4)          NaN              26    77   \n",
       "freq                              36          NaN              10    10   \n",
       "\n",
       "        Минимальный балл  \n",
       "count                141  \n",
       "unique                 1  \n",
       "top                   40  \n",
       "freq                 141  "
      ]
     },
     "execution_count": 13,
     "metadata": {},
     "output_type": "execute_result"
    }
   ],
   "source": [
    "inform.describe()"
   ]
  },
  {
   "cell_type": "markdown",
   "id": "b3d00e75",
   "metadata": {},
   "source": [
    "**3. Найдите процент учащихся, выполнивших работу ниже среднего**"
   ]
  },
  {
   "cell_type": "code",
   "execution_count": 15,
   "id": "a9e1e6bd",
   "metadata": {},
   "outputs": [],
   "source": [
    "ave_rus = 72.77\n",
    "ave_math = 49.26\n",
    "ave_phys = 52.05\n",
    "ave_inform = 60.78"
   ]
  },
  {
   "cell_type": "code",
   "execution_count": 16,
   "id": "aea28280",
   "metadata": {},
   "outputs": [
    {
     "data": {
      "text/plain": [
       "51.27952755905512"
      ]
     },
     "execution_count": 16,
     "metadata": {},
     "output_type": "execute_result"
    }
   ],
   "source": [
    "rus_failave = (len(rus[rus['Балл'] < ave_rus])/rus.iloc[-1]['№']) * 100\n",
    "rus_failave"
   ]
  },
  {
   "cell_type": "code",
   "execution_count": 17,
   "id": "592b9f14",
   "metadata": {},
   "outputs": [
    {
     "data": {
      "text/plain": [
       "48.00509337860781"
      ]
     },
     "execution_count": 17,
     "metadata": {},
     "output_type": "execute_result"
    }
   ],
   "source": [
    "math_failave = (len(math[math['Балл'] < ave_math])/math.iloc[-1]['№']) * 100\n",
    "math_failave"
   ]
  },
  {
   "cell_type": "code",
   "execution_count": 18,
   "id": "8f99bab0",
   "metadata": {},
   "outputs": [
    {
     "data": {
      "text/plain": [
       "56.271186440677965"
      ]
     },
     "execution_count": 18,
     "metadata": {},
     "output_type": "execute_result"
    }
   ],
   "source": [
    "phys_failave = (len(phys[phys['Балл'] < ave_phys])/phys.iloc[-1]['№']) * 100\n",
    "phys_failave"
   ]
  },
  {
   "cell_type": "code",
   "execution_count": 19,
   "id": "39fcabc2",
   "metadata": {},
   "outputs": [
    {
     "data": {
      "text/plain": [
       "46.09929078014184"
      ]
     },
     "execution_count": 19,
     "metadata": {},
     "output_type": "execute_result"
    }
   ],
   "source": [
    "inform_failave = (len(inform[inform['Балл'] < ave_inform])/inform.iloc[-1]['№']) * 100\n",
    "inform_failave"
   ]
  },
  {
   "cell_type": "markdown",
   "id": "92448d6e",
   "metadata": {},
   "source": [
    "**4. Найти процент учащихся не сдавших экзамен**"
   ]
  },
  {
   "cell_type": "code",
   "execution_count": 20,
   "id": "c2e47ca2",
   "metadata": {},
   "outputs": [
    {
     "data": {
      "text/plain": [
       "0.13123359580052493"
      ]
     },
     "execution_count": 20,
     "metadata": {},
     "output_type": "execute_result"
    }
   ],
   "source": [
    "rus_fail = (len(rus[rus['Балл'] < rus.iloc[0]['Минимальный балл']])/rus.iloc[-1]['№']) * 100\n",
    "rus_fail"
   ]
  },
  {
   "cell_type": "code",
   "execution_count": 21,
   "id": "79cd0bd7",
   "metadata": {},
   "outputs": [
    {
     "data": {
      "text/plain": [
       "9.210526315789473"
      ]
     },
     "execution_count": 21,
     "metadata": {},
     "output_type": "execute_result"
    }
   ],
   "source": [
    "math_fail = (len(math[math['Балл'] < math.iloc[0]['Минимальный балл']])/math.iloc[-1]['№']) * 100\n",
    "math_fail"
   ]
  },
  {
   "cell_type": "code",
   "execution_count": 22,
   "id": "b5f7d699",
   "metadata": {},
   "outputs": [
    {
     "data": {
      "text/plain": [
       "7.711864406779662"
      ]
     },
     "execution_count": 22,
     "metadata": {},
     "output_type": "execute_result"
    }
   ],
   "source": [
    "phys_fail = (len(phys[phys['Балл'] < phys.iloc[0]['Минимальный балл']])/phys.iloc[-1]['№']) * 100\n",
    "phys_fail"
   ]
  },
  {
   "cell_type": "code",
   "execution_count": 24,
   "id": "511e631d",
   "metadata": {},
   "outputs": [
    {
     "data": {
      "text/plain": [
       "11.347517730496454"
      ]
     },
     "execution_count": 24,
     "metadata": {},
     "output_type": "execute_result"
    }
   ],
   "source": [
    "inform_fail = (len(inform[inform['Балл'] < inform.iloc[0]['Минимальный балл']])/inform.iloc[-1]['№']) * 100\n",
    "inform_fail"
   ]
  },
  {
   "cell_type": "markdown",
   "id": "730dc81c",
   "metadata": {},
   "source": [
    "**5. Постройте круговую диаграмму, показывающую распределение сдавших и не сдавших экзамен**"
   ]
  },
  {
   "cell_type": "code",
   "execution_count": 31,
   "id": "4d762755",
   "metadata": {},
   "outputs": [
    {
     "data": {
      "image/png": "[encoded data removed]",
      "text/plain": [
       "<Figure size 640x480 with 1 Axes>"
      ]
     },
     "metadata": {},
     "output_type": "display_data"
    }
   ],
   "source": [
    "labels = ['Сдали', 'Не сдали']\n",
    "vals = [100-rus_fail, rus_fail]\n",
    "\n",
    "fig, ax = plt.subplots()\n",
    "\n",
    "total = sum(vals)\n",
    "labels = [f\"{n} ({v/total:.1%})\" for n,v in zip(labels, vals)]\n",
    "\n",
    "ax.pie(vals, labels=labels, autopct='%1.1f%%', colors = ['green', 'red'])\n",
    "\n",
    "ax.set_title(\"Распределение результатов экзамена по русскому языку\")\n",
    "plt.show()"
   ]
  },
  {
   "cell_type": "code",
   "execution_count": 32,
   "id": "788a7d17",
   "metadata": {},
   "outputs": [
    {
     "data": {
      "image/png": "[encoded data removed]",
      "text/plain": [
       "<Figure size 640x480 with 1 Axes>"
      ]
     },
     "metadata": {},
     "output_type": "display_data"
    }
   ],
   "source": [
    "labels = ['Сдали', 'Не сдали']\n",
    "vals = [100-math_fail, math_fail]\n",
    "\n",
    "fig, ax = plt.subplots()\n",
    "\n",
    "total = sum(vals)\n",
    "labels = [f\"{n} ({v/total:.1%})\" for n,v in zip(labels, vals)]\n",
    "\n",
    "ax.pie(vals, labels=labels, autopct='%1.1f%%', colors = ['green', 'red'])\n",
    "\n",
    "ax.set_title(\"Распределение результатов экзамена по профильной математике\")\n",
    "plt.show()"
   ]
  },
  {
   "cell_type": "code",
   "execution_count": 33,
   "id": "595adf56",
   "metadata": {},
   "outputs": [
    {
     "data": {
      "image/png": "[encoded data removed]",
      "text/plain": [
       "<Figure size 640x480 with 1 Axes>"
      ]
     },
     "metadata": {},
     "output_type": "display_data"
    }
   ],
   "source": [
    "labels = ['Сдали', 'Не сдали']\n",
    "vals = [100-phys_fail, phys_fail]\n",
    "\n",
    "fig, ax = plt.subplots()\n",
    "\n",
    "total = sum(vals)\n",
    "labels = [f\"{n} ({v/total:.1%})\" for n,v in zip(labels, vals)]\n",
    "\n",
    "ax.pie(vals, labels=labels, autopct='%1.1f%%', colors = ['green', 'red'])\n",
    "\n",
    "ax.set_title(\"Распределение результатов экзамена по физике\")\n",
    "plt.show()"
   ]
  },
  {
   "cell_type": "code",
   "execution_count": 34,
   "id": "a21ae15b",
   "metadata": {},
   "outputs": [
    {
     "data": {
      "image/png": "[encoded data removed]",
      "text/plain": [
       "<Figure size 640x480 with 1 Axes>"
      ]
     },
     "metadata": {},
     "output_type": "display_data"
    }
   ],
   "source": [
    "labels = ['Сдали', 'Не сдали']\n",
    "vals = [100-inform_fail, inform_fail]\n",
    "\n",
    "fig, ax = plt.subplots()\n",
    "\n",
    "total = sum(vals)\n",
    "labels = [f\"{n} ({v/total:.1%})\" for n,v in zip(labels, vals)]\n",
    "\n",
    "ax.pie(vals, labels=labels, autopct='%1.1f%%', colors = ['green', 'red'])\n",
    "\n",
    "ax.set_title(\"Распределение результатов экзамена по информатике и ИКТ\")\n",
    "plt.show()"
   ]
  },
  {
   "cell_type": "markdown",
   "id": "4c5e89ae",
   "metadata": {},
   "source": [
    "### Далее приведены расчёты только для профильной математики"
   ]
  },
  {
   "cell_type": "markdown",
   "id": "678e56d3",
   "metadata": {},
   "source": [
    "**6. Постройте ядерную оценку плотности распределения баллов за экзамен**"
   ]
  },
  {
   "cell_type": "code",
   "execution_count": 36,
   "id": "0207a006",
   "metadata": {},
   "outputs": [
    {
     "data": {
      "image/png": "[encoded data removed]",
      "text/plain": [
       "<Figure size 900x600 with 1 Axes>"
      ]
     },
     "metadata": {},
     "output_type": "display_data"
    }
   ],
   "source": [
    "plt.figure(figsize=(9,6))\n",
    "sns.histplot(math[\"Балл\"], kde=True)\n",
    "plt.xlabel(\"Балл за экзамен\")\n",
    "plt.ylabel(\"Плотность\")\n",
    "plt.title(\"Ядерна оценка плотности баллов за экзамен по профильной математике\")\n",
    "plt.show()"
   ]
  },
  {
   "cell_type": "markdown",
   "id": "79e8200f",
   "metadata": {},
   "source": [
    "**7. Найдите процентное соотношение учащихся, сдавших экзамен на «отлично», «хорошо», «удовлетворительно», «неудовлетворительно»**"
   ]
  },
  {
   "cell_type": "code",
   "execution_count": 51,
   "id": "9417ef75",
   "metadata": {},
   "outputs": [],
   "source": [
    "excellent = 0\n",
    "good = 0\n",
    "normal = 0\n",
    "fail = 0\n",
    "\n",
    "for ind in math.index:\n",
    "    if (math['Балл'].values[ind] >= 0) and (math['Балл'].values[ind] <= 26):\n",
    "        fail+=1\n",
    "    if (math['Балл'].values[ind] >= 27) and (math['Балл'].values[ind] <= 46):\n",
    "        normal+=1\n",
    "    if (math['Балл'].values[ind] >= 47) and (math['Балл'].values[ind] <= 64):\n",
    "        good+=1\n",
    "    if (math['Балл'].values[ind] >= 65) and (math['Балл'].values[ind] <= 100):\n",
    "        excellent+=1"
   ]
  },
  {
   "cell_type": "code",
   "execution_count": 54,
   "id": "0a9189fb",
   "metadata": {},
   "outputs": [
    {
     "data": {
      "image/png": "[encoded data removed]",
      "text/plain": [
       "<Figure size 640x480 with 1 Axes>"
      ]
     },
     "metadata": {},
     "output_type": "display_data"
    }
   ],
   "source": [
    "labels = ['Отлично', 'Хорошо', 'Удовлетворительно', 'Неудовлетворительно']\n",
    "vals = [excellent, good, normal, fail]\n",
    "\n",
    "fig, ax = plt.subplots()\n",
    "\n",
    "total = sum(vals)\n",
    "\n",
    "ax.pie(vals, labels=labels, autopct='%1.1f%%')\n",
    "\n",
    "ax.set_title(\"Распределение результатов экзамена по 5-балльной шкале\")\n",
    "plt.show()"
   ]
  },
  {
   "cell_type": "markdown",
   "id": "c53e53d5",
   "metadata": {},
   "source": [
    "**8. Какое процентное соотношение юношей и девушек писало данный экзамен?**"
   ]
  },
  {
   "cell_type": "code",
   "execution_count": 57,
   "id": "68386792",
   "metadata": {},
   "outputs": [
    {
     "name": "stdout",
     "output_type": "stream",
     "text": [
      "1245 1111\n"
     ]
    }
   ],
   "source": [
    "girls = len(math[math['Пол']=='Ж'])\n",
    "mans = len(math[math['Пол']=='М'])\n",
    "print(girls, mans)"
   ]
  },
  {
   "cell_type": "code",
   "execution_count": 59,
   "id": "129a1c8c",
   "metadata": {},
   "outputs": [
    {
     "data": {
      "image/png": "[encoded data removed]",
      "text/plain": [
       "<Figure size 640x480 with 1 Axes>"
      ]
     },
     "metadata": {},
     "output_type": "display_data"
    }
   ],
   "source": [
    "labels = ['Юноши', 'Девушки']\n",
    "vals = [girls, mans]\n",
    "\n",
    "fig, ax = plt.subplots()\n",
    "\n",
    "total = sum(vals)\n",
    "\n",
    "ax.pie(vals, labels=labels, autopct='%1.1f%%')\n",
    "\n",
    "ax.set_title(\"Распределение юношей и девушек, писавших экзамен\")\n",
    "plt.show()"
   ]
  },
  {
   "cell_type": "markdown",
   "id": "b3269023",
   "metadata": {},
   "source": [
    "**9. Сколько школ принимало участие в экзамене?**"
   ]
  },
  {
   "cell_type": "code",
   "execution_count": 62,
   "id": "9e642676",
   "metadata": {},
   "outputs": [
    {
     "data": {
      "text/plain": [
       "17"
      ]
     },
     "execution_count": 62,
     "metadata": {},
     "output_type": "execute_result"
    }
   ],
   "source": [
    "school_count = math['№ школы'].nunique()\n",
    "school_count"
   ]
  },
  {
   "cell_type": "markdown",
   "id": "750d026f",
   "metadata": {},
   "source": [
    "**10. Сколько всего заданий с кратким ответом? С развернутым ответом?**"
   ]
  },
  {
   "cell_type": "code",
   "execution_count": 63,
   "id": "02b671fb",
   "metadata": {},
   "outputs": [
    {
     "data": {
      "text/plain": [
       "12"
      ]
     },
     "execution_count": 63,
     "metadata": {},
     "output_type": "execute_result"
    }
   ],
   "source": [
    "len(math.iloc[0]['Задания с кратким ответом'])"
   ]
  },
  {
   "cell_type": "code",
   "execution_count": 69,
   "id": "f0fbfba7",
   "metadata": {},
   "outputs": [
    {
     "data": {
      "text/plain": [
       "7"
      ]
     },
     "execution_count": 69,
     "metadata": {},
     "output_type": "execute_result"
    }
   ],
   "source": [
    "math.iloc[0]['Задания с развернутым ответом'].count('0')"
   ]
  },
  {
   "cell_type": "markdown",
   "id": "03b376e9",
   "metadata": {},
   "source": [
    "**11. Пусть задания с кратким ответом будут задания типа В. Соответственно всего по экзамену вопросов класса В: В1, ... Вк\n",
    " Посчитайте процент выполненных и невыполненных заданий по каждому вопросу класса В**"
   ]
  },
  {
   "cell_type": "code",
   "execution_count": null,
   "id": "ec6faffd",
   "metadata": {},
   "outputs": [],
   "source": []
  }
 ],
 "metadata": {
  "kernelspec": {
   "display_name": "Python 3 (ipykernel)",
   "language": "python",
   "name": "python3"
  },
  "language_info": {
   "codemirror_mode": {
    "name": "ipython",
    "version": 3
   },
   "file_extension": ".py",
   "mimetype": "text/x-python",
   "name": "python",
   "nbconvert_exporter": "python",
   "pygments_lexer": "ipython3",
   "version": "3.10.3"
  }
 },
 "nbformat": 4,
 "nbformat_minor": 5
}
